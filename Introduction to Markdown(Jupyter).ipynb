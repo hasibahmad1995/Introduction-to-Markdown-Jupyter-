{
 "cells": [
  {
   "cell_type": "markdown",
   "metadata": {},
   "source": [
    "# A little intro to Markdown \n",
    "\n",
    "\n",
    "### What is Markdown?\n",
    "\n",
    "Markdown is a markup language that uses plain text formatting syntax.  This means that we can modify the formatting our text with the use of various symbols on our keyboard as indicators.\n",
    "\n",
    "Some examples include:\n",
    "\n",
    "* Headers\n",
    "* Text modifications such as italics and bold\n",
    "* Ordered and Unordered lists\n",
    "* Links\n",
    "* Tables\n",
    "* Images\n",
    "* Etc.\n",
    "\n",
    "Now let's showcase some examples of how this formatting is done:"
   ]
  },
  {
   "cell_type": "markdown",
   "metadata": {},
   "source": [
    "Headers:\n",
    "\n",
    "put a #, then space and then the name of the header.\n",
    "\n",
    "# H1\n",
    "## H2\n",
    "### H3\n",
    "#### H4\n",
    "##### H5\n",
    "###### H6\n",
    "####### H7\n",
    "\n",
    "We can see above that H1 is the biggest and H6 is smallest headers among all. H7 is invalid which shows we can go up to H6."
   ]
  },
  {
   "cell_type": "markdown",
   "metadata": {},
   "source": [
    "### Text modifications:\n",
    "\n",
    "Emphasis, aka(also known as) italics = put * before and at the end of a word to make it italic. There must be no space between the word and the asterisks.\n",
    "\n",
    "Ex: * *This is italic* *\n",
    "\n",
    "Strong emphasis, aka bold, with double asterisks or double underscores before and at the end of a word.\n",
    "\n",
    "Ex: **This is bold**\n",
    "\n",
    "__This statement starts and finishes with double underscores__\n",
    "\n",
    "Combined emphasis with **asterisks and _underscores_**.\n",
    "\n",
    "Strikethrough uses two tildes. ~~Scratch this.~~"
   ]
  },
  {
   "cell_type": "markdown",
   "metadata": {},
   "source": [
    "### Lists:\n",
    "\n",
    "1. First ordered list item\n",
    "2. Another item\n",
    "  * Unordered sub-list. \n",
    "1. Actual numbers don't matter, just that it's a number\n",
    "  1. Ordered sub-list\n",
    "4. And another item.\n",
    "\n",
    "* Unordered list can use asterisks\n",
    "- Or minuses\n",
    "+ Or pluses"
   ]
  },
  {
   "cell_type": "markdown",
   "metadata": {},
   "source": [
    "### Links:\n",
    "\n",
    "**My fb link:** https://www.facebook.com/rexhasib.rexhasib/\n",
    "\n",
    "**My linkedin link:** <www.linkedin.com/in/hasib-ahmad-309557107>\n",
    "\n",
    "\n",
    "[My github repo](https://github.com/hasibahmad1995)\n",
    "\n",
    "To look into more examples of Markdown syntax and features such as tables, images, etc. head to the following link: [Markdown Reference](https://github.com/adam-p/markdown-here/wiki/Markdown-Cheatsheet)"
   ]
  },
  {
   "cell_type": "markdown",
   "metadata": {},
   "source": [
    "### Kernels, Variables, and Environment\n",
    "\n",
    "A notebook kernel is a “computational engine” that executes the code contained in a Notebook document. There are kernels for various programming languages, however we are solely using the python kernel which executes python code.\n",
    "\n",
    "When a notebook is opened, the associated kernel is automatically launched for our convenience."
   ]
  },
  {
   "cell_type": "markdown",
   "metadata": {},
   "source": [
    "### How to install Jupyter Notebooks?\n",
    "\n",
    "**Note:** *Coursera provides embedded jupyter notebooks within the course, thus the download is not a requirement unless you wish to explore jupyter further on your own computer.*\n",
    "\n",
    "Official Installation Guide: https://jupyter.readthedocs.io/en/latest/install.html\n",
    "\n",
    "Jupyter recommends utilizing Anaconda, which is a platform compatible with Windows, macOS, and Linux systems.  \n",
    "\n",
    "Anaconda Download: https://www.anaconda.com/download/#macos"
   ]
  },
  {
   "cell_type": "code",
   "execution_count": null,
   "metadata": {},
   "outputs": [],
   "source": []
  }
 ],
 "metadata": {
  "kernelspec": {
   "display_name": "Python 3",
   "language": "python",
   "name": "python3"
  },
  "language_info": {
   "codemirror_mode": {
    "name": "ipython",
    "version": 3
   },
   "file_extension": ".py",
   "mimetype": "text/x-python",
   "name": "python",
   "nbconvert_exporter": "python",
   "pygments_lexer": "ipython3",
   "version": "3.7.6"
  }
 },
 "nbformat": 4,
 "nbformat_minor": 4
}
